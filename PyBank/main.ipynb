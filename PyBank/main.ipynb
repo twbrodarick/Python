{
 "cells": [
  {
   "cell_type": "code",
   "execution_count": 55,
   "metadata": {},
   "outputs": [],
   "source": [
    "from pathlib import Path\n",
    "import csv"
   ]
  },
  {
   "cell_type": "code",
   "execution_count": 70,
   "metadata": {},
   "outputs": [],
   "source": [
    "csvpath = Path(\"./budget_data.csv\")"
   ]
  },
  {
   "cell_type": "code",
   "execution_count": 71,
   "metadata": {},
   "outputs": [],
   "source": [
    "date = []\n",
    "profits = []"
   ]
  },
  {
   "cell_type": "code",
   "execution_count": 72,
   "metadata": {},
   "outputs": [
    {
     "name": "stdout",
     "output_type": "stream",
     "text": [
      "['Date', 'Profit/Losses']\n"
     ]
    }
   ],
   "source": [
    "net_change_list = []\n",
    "with open(csvpath, 'r') as csvfile:\n",
    "    csvreader = csv.reader(csvfile, delimiter=\",\") \n",
    "    csv_header = next(csvreader)\n",
    "    print(csv_header)\n",
    "    \n",
    "    first_row = next(csvreader)\n",
    "    prev_net = int(first_row[1])\n",
    "    count = 0\n",
    "    profits = 0\n",
    "    maximum = 0\n",
    "    minimum = 0\n",
    "    total = 0\n",
    "    profit_chg = 0\n",
    "    avg_chg = 0\n",
    "    net_change = 0\n",
    "    largest_increase = [\"\",0]\n",
    "    largest_decrease = [\"\",999999999999999]\n",
    "    \n",
    "    count += 1\n",
    "    profits += prev_net\n",
    "    \n",
    "    for row in csvreader:\n",
    "        date = row[0]\n",
    "        profits += int(row[1])\n",
    "        count += 1\n",
    "        \n",
    "        \n",
    "        net_change = int(row[1]) - prev_net\n",
    "        prev_net = int(row[1])\n",
    "        net_change_list.append(net_change)\n",
    "        \n",
    "        if net_change > largest_increase[1]:\n",
    "            largest_increase[0] = date\n",
    "            largest_increase[1] = net_change\n",
    "        if net_change < largest_decrease[1]:\n",
    "            largest_decrease[0] = date\n",
    "            largest_decrease[1] = net_change\n",
    "  \n",
    "    \n",
    "avg_chg = round(sum(net_change_list) / len(net_change_list), 2)\n"
   ]
  },
  {
   "cell_type": "code",
   "execution_count": 75,
   "metadata": {},
   "outputs": [
    {
     "name": "stdout",
     "output_type": "stream",
     "text": [
      "---------Financial Analysis---------\n",
      "Total Months: 86\n",
      "Total: $38,382,578\n",
      "Average Change -$2,315.12\n",
      "Greatest Increase in Profits Feb-2012 $1,926,159\n",
      "Greatest Decrease in Profits Sep-2013 -$2,196,167\n"
     ]
    }
   ],
   "source": [
    "print(\"---------Financial Analysis---------\")\n",
    "print(f\"Total Months: {count}\")\n",
    "print(f\"Total: ${profits:,}\")\n",
    "print(f\"Average Change -${avg_chg*-1:,}\")\n",
    "print(f\"Greatest Increase in Profits {largest_increase[0]} ${largest_increase[1]:,}\")\n",
    "print(f\"Greatest Decrease in Profits {largest_decrease[0]} -${largest_decrease[1] *-1:,}\")\n"
   ]
  },
  {
   "cell_type": "code",
   "execution_count": 76,
   "metadata": {},
   "outputs": [],
   "source": [
    "with open(\"Financial Analysis\", \"r+\") as txt_file:\n",
    "    txt_file.write(f\"Total Months: {count}\")\n",
    "    txt_file.write(f\"Total: ${profits:,}\\n\")\n",
    "    txt_file.write(f\"Average Change -${avg_chg*-1:,}\\n\")\n",
    "    txt_file.write(f\"Greatest Increase in Profits {largest_increase[0]} ${largest_increase[1]:,}\\n\")\n",
    "    txt_file.write(f\"Greatest Decrease in Profits {largest_decrease[0]} -${largest_decrease[1] *-1:,}\\n\")\n"
   ]
  },
  {
   "cell_type": "code",
   "execution_count": null,
   "metadata": {},
   "outputs": [],
   "source": []
  },
  {
   "cell_type": "code",
   "execution_count": null,
   "metadata": {},
   "outputs": [],
   "source": []
  },
  {
   "cell_type": "code",
   "execution_count": null,
   "metadata": {},
   "outputs": [],
   "source": []
  }
 ],
 "metadata": {
  "kernelspec": {
   "display_name": "Python 3",
   "language": "python",
   "name": "python3"
  },
  "language_info": {
   "codemirror_mode": {
    "name": "ipython",
    "version": 3
   },
   "file_extension": ".py",
   "mimetype": "text/x-python",
   "name": "python",
   "nbconvert_exporter": "python",
   "pygments_lexer": "ipython3",
   "version": "3.7.4"
  }
 },
 "nbformat": 4,
 "nbformat_minor": 4
}
